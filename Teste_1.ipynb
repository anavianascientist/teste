{
  "nbformat": 4,
  "nbformat_minor": 0,
  "metadata": {
    "kernelspec": {
      "display_name": "Python 3",
      "language": "python",
      "name": "python3"
    },
    "language_info": {
      "codemirror_mode": {
        "name": "ipython",
        "version": 3
      },
      "file_extension": ".py",
      "mimetype": "text/x-python",
      "name": "python",
      "nbconvert_exporter": "python",
      "pygments_lexer": "ipython3",
      "version": "3.7.7"
    },
    "colab": {
      "name": "Teste_1.ipynb",
      "provenance": [],
      "collapsed_sections": [],
      "include_colab_link": true
    },
    "accelerator": "GPU"
  },
  "cells": [
    {
      "cell_type": "markdown",
      "metadata": {
        "id": "view-in-github",
        "colab_type": "text"
      },
      "source": [
        "<a href=\"https://colab.research.google.com/github/anavianascientist/teste/blob/master/Teste_1.ipynb\" target=\"_parent\"><img src=\"https://colab.research.google.com/assets/colab-badge.svg\" alt=\"Open In Colab\"/></a>"
      ]
    },
    {
      "cell_type": "code",
      "metadata": {
        "id": "Pm63kcO7vgc4",
        "colab_type": "code",
        "colab": {}
      },
      "source": [
        "#Importar as bibliotecas necessarias\n",
        "import pandas as pd\n",
        "import json"
      ],
      "execution_count": 3,
      "outputs": []
    },
    {
      "cell_type": "code",
      "metadata": {
        "id": "L87rpiBPvgdH",
        "colab_type": "code",
        "colab": {
          "resources": {
            "http://localhost:8080/nbextensions/google.colab/files.js": {
              "data": "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",
              "ok": true,
              "headers": [
                [
                  "content-type",
                  "application/javascript"
                ]
              ],
              "status": 200,
              "status_text": ""
            }
          },
          "base_uri": "https://localhost:8080/",
          "height": 72
        },
        "outputId": "7b82ce77-672e-482e-e029-f914f14d53d2"
      },
      "source": [
        "#Upload do arquivo \n",
        "from google.colab import files\n",
        "uploaded = files.upload()\n",
        "\n"
      ],
      "execution_count": 1,
      "outputs": [
        {
          "output_type": "display_data",
          "data": {
            "text/html": [
              "\n",
              "     <input type=\"file\" id=\"files-14b5239c-05c6-4c88-b32c-bebde2bb6bed\" name=\"files[]\" multiple disabled\n",
              "        style=\"border:none\" />\n",
              "     <output id=\"result-14b5239c-05c6-4c88-b32c-bebde2bb6bed\">\n",
              "      Upload widget is only available when the cell has been executed in the\n",
              "      current browser session. Please rerun this cell to enable.\n",
              "      </output>\n",
              "      <script src=\"/nbextensions/google.colab/files.js\"></script> "
            ],
            "text/plain": [
              "<IPython.core.display.HTML object>"
            ]
          },
          "metadata": {
            "tags": []
          }
        },
        {
          "output_type": "stream",
          "text": [
            "Saving source_file_2.json to source_file_2.json\n"
          ],
          "name": "stdout"
        }
      ]
    },
    {
      "cell_type": "code",
      "metadata": {
        "id": "JHu659Cr9S01",
        "colab_type": "code",
        "colab": {}
      },
      "source": [
        "import io\n",
        "dataset = pd.read_json(io.BytesIO(uploaded['source_file_2.json']))"
      ],
      "execution_count": 4,
      "outputs": []
    },
    {
      "cell_type": "code",
      "metadata": {
        "id": "ju0Di3YBvgdQ",
        "colab_type": "code",
        "colab": {}
      },
      "source": [
        "# Transformando o arquivo conforme ordem de prioridade\n",
        "\n",
        "dataset.sort_values(by='priority', inplace = True)"
      ],
      "execution_count": 7,
      "outputs": []
    },
    {
      "cell_type": "code",
      "metadata": {
        "id": "EVUdRe2hvgdY",
        "colab_type": "code",
        "colab": {
          "base_uri": "https://localhost:8080/",
          "height": 204
        },
        "outputId": "3a65fd4f-6a7a-424e-ce8b-bb1f12b0cfd1"
      },
      "source": [
        "dataset.head(5)"
      ],
      "execution_count": 8,
      "outputs": [
        {
          "output_type": "execute_result",
          "data": {
            "text/html": [
              "<div>\n",
              "<style scoped>\n",
              "    .dataframe tbody tr th:only-of-type {\n",
              "        vertical-align: middle;\n",
              "    }\n",
              "\n",
              "    .dataframe tbody tr th {\n",
              "        vertical-align: top;\n",
              "    }\n",
              "\n",
              "    .dataframe thead th {\n",
              "        text-align: right;\n",
              "    }\n",
              "</style>\n",
              "<table border=\"1\" class=\"dataframe\">\n",
              "  <thead>\n",
              "    <tr style=\"text-align: right;\">\n",
              "      <th></th>\n",
              "      <th>name</th>\n",
              "      <th>managers</th>\n",
              "      <th>watchers</th>\n",
              "      <th>priority</th>\n",
              "    </tr>\n",
              "  </thead>\n",
              "  <tbody>\n",
              "    <tr>\n",
              "      <th>2</th>\n",
              "      <td>Annotations</td>\n",
              "      <td>[luanda]</td>\n",
              "      <td>[csaftoiu, merlin, victor]</td>\n",
              "      <td>10</td>\n",
              "    </tr>\n",
              "    <tr>\n",
              "      <th>21</th>\n",
              "      <td>[EXECUTIVE] Merlin</td>\n",
              "      <td>[merlin]</td>\n",
              "      <td>[csaftoiu, jpfarias, merlin, morris]</td>\n",
              "      <td>20</td>\n",
              "    </tr>\n",
              "    <tr>\n",
              "      <th>45</th>\n",
              "      <td>sportsparsers - 22bet</td>\n",
              "      <td>[morris]</td>\n",
              "      <td>[csaftoiu, merlin]</td>\n",
              "      <td>45</td>\n",
              "    </tr>\n",
              "    <tr>\n",
              "      <th>44</th>\n",
              "      <td>sportsparsers - esportscalendar</td>\n",
              "      <td>[morris]</td>\n",
              "      <td>[csaftoiu, merlin]</td>\n",
              "      <td>55</td>\n",
              "    </tr>\n",
              "    <tr>\n",
              "      <th>33</th>\n",
              "      <td>morris bg data gathering</td>\n",
              "      <td>[victor]</td>\n",
              "      <td>[csaftoiu, morris]</td>\n",
              "      <td>130</td>\n",
              "    </tr>\n",
              "  </tbody>\n",
              "</table>\n",
              "</div>"
            ],
            "text/plain": [
              "                               name  ... priority\n",
              "2                       Annotations  ...       10\n",
              "21               [EXECUTIVE] Merlin  ...       20\n",
              "45            sportsparsers - 22bet  ...       45\n",
              "44  sportsparsers - esportscalendar  ...       55\n",
              "33         morris bg data gathering  ...      130\n",
              "\n",
              "[5 rows x 4 columns]"
            ]
          },
          "metadata": {
            "tags": []
          },
          "execution_count": 8
        }
      ]
    },
    {
      "cell_type": "code",
      "metadata": {
        "id": "Cwq7k_Isvgdl",
        "colab_type": "code",
        "colab": {}
      },
      "source": [
        "# Atribuir a cada manager o projeto (name) conforme o valor minimo da prioridade\n",
        "managers = {}\n",
        "keys = list(set([j for i in dataset.managers for j in i]))\n",
        "for mn in keys:\n",
        "    mask = dataset.managers.apply(lambda x: mn in x)\n",
        "    values = ((dataset.name[mask].to_list()))\n",
        "    managers[mn]=values"
      ],
      "execution_count": 9,
      "outputs": []
    },
    {
      "cell_type": "code",
      "metadata": {
        "id": "LXuxWCAJvgdt",
        "colab_type": "code",
        "colab": {
          "base_uri": "https://localhost:8080/",
          "height": 867
        },
        "outputId": "f043929b-58ca-47ff-8496-07f4a25166a6"
      },
      "source": [
        "managers"
      ],
      "execution_count": 10,
      "outputs": [
        {
          "output_type": "execute_result",
          "data": {
            "text/plain": [
              "{'ariel': ['[BG-CLUB-SITE] frontend'],\n",
              " 'arturc': ['unity render diff passport text artur'],\n",
              " 'csaftoiu': ['sportsparsers - pinnacle API',\n",
              "  '[OCR] tesseract MRZ reading ',\n",
              "  'unity render diff passport text artur',\n",
              "  '[CV] [Qt] OpenCV GUI',\n",
              "  'unity render different passport text',\n",
              "  '[template] unity render passport text',\n",
              "  'matchbook parser - mfilho'],\n",
              " 'luanda': ['Annotations'],\n",
              " 'merlin': ['[EXECUTIVE] Merlin',\n",
              "  '[Web] pm-site',\n",
              "  '[ID-VERIFY-PIPELINE] finger detector',\n",
              "  '[CHESS] Live Demo Executive',\n",
              "  '[INHOUSE-TOOLS] NN-Webapp',\n",
              "  '[INHOUSE-TOOLS] Annotators app',\n",
              "  '[CV] [Qt] OpenCV GUI',\n",
              "  'python training lucas',\n",
              "  'python training alysson',\n",
              "  'unity render diff passport text - kennedy',\n",
              "  'Unity Render Passport Text [Template]',\n",
              "  'chess board finder eliaquim',\n",
              "  '[IOS-APPS] IOS streaming app',\n",
              "  '[IOS-APPS] IOS PI app',\n",
              "  '[HR] Candidate tests',\n",
              "  '[CHATBOT] merlin',\n",
              "  '[ID-VERIFY-PIPELINE] Background evaluator',\n",
              "  '[ID-VERIFY-PIPELINE] Passport finder',\n",
              "  '[CHATBOT] rodrigo',\n",
              "  '[BG-CLUB-SITE] frontend',\n",
              "  '[INHOUSE-TOOLS] NN-Webapp 2'],\n",
              " 'morris': ['sportsparsers - 22bet',\n",
              "  'sportsparsers - esportscalendar',\n",
              "  'sportsparsers - unikrn',\n",
              "  'Deepgammon',\n",
              "  'Runningball Parser',\n",
              "  'sportsparsers - unibet',\n",
              "  'sportsparsers - tipster.de',\n",
              "  'sportsparsers - betway',\n",
              "  'sportsparsers - gg.bet',\n",
              "  'sportsparsers - matchbook',\n",
              "  'matchbook parser - mfilho'],\n",
              " 'victor': ['morris bg data gathering'],\n",
              " 'victor-mgr': ['mateus silva bg deep checkers',\n",
              "  'Android Camera App rrocha',\n",
              "  'bg deep learning aporto',\n",
              "  'bg deep checkers rvalentim',\n",
              "  'tourney site famador',\n",
              "  'tourney site ariel',\n",
              "  'tourney site tbarbalho']}"
            ]
          },
          "metadata": {
            "tags": []
          },
          "execution_count": 10
        }
      ]
    },
    {
      "cell_type": "code",
      "metadata": {
        "id": "q9INhcScvgd3",
        "colab_type": "code",
        "colab": {}
      },
      "source": [
        "# Atribuir a cada wacther o projeto (name) conforme o valor minimo da prioridade\n",
        "watchers = {}\n",
        "keys = list(set([j for i in dataset.watchers for j in i]))\n",
        "for wt in keys:\n",
        "    mask = dataset.watchers.apply(lambda x: wt in x)\n",
        "    values = ((dataset.name[mask].to_list()))\n",
        "    watchers[wt]=values"
      ],
      "execution_count": 12,
      "outputs": []
    },
    {
      "cell_type": "code",
      "metadata": {
        "id": "5_FISEF_vgeB",
        "colab_type": "code",
        "colab": {},
        "outputId": "e8666cb3-ff2a-431d-8c6a-437d9d6d6f2d"
      },
      "source": [
        "watchers"
      ],
      "execution_count": null,
      "outputs": [
        {
          "output_type": "execute_result",
          "data": {
            "text/plain": [
              "{'jpfarias': ['[EXECUTIVE] Merlin',\n",
              "  '[Web] pm-site',\n",
              "  '[ID-VERIFY-PIPELINE] finger detector',\n",
              "  '[INHOUSE-TOOLS] NN-Webapp',\n",
              "  '[INHOUSE-TOOLS] Annotators app',\n",
              "  '[IOS-APPS] IOS streaming app',\n",
              "  '[IOS-APPS] IOS PI app',\n",
              "  '[HR] Candidate tests',\n",
              "  '[CHATBOT] merlin',\n",
              "  '[ID-VERIFY-PIPELINE] Background evaluator',\n",
              "  '[ID-VERIFY-PIPELINE] Passport finder',\n",
              "  '[CHATBOT] rodrigo',\n",
              "  '[BG-CLUB-SITE] frontend',\n",
              "  '[INHOUSE-TOOLS] NN-Webapp 2',\n",
              "  'matchbook parser - mfilho'],\n",
              " 'morris': ['[EXECUTIVE] Merlin',\n",
              "  'morris bg data gathering',\n",
              "  '[Web] pm-site',\n",
              "  'sportsparsers - pinnacle API',\n",
              "  '[ID-VERIFY-PIPELINE] finger detector',\n",
              "  '[CHESS] Live Demo Executive',\n",
              "  '[INHOUSE-TOOLS] NN-Webapp',\n",
              "  '[INHOUSE-TOOLS] Annotators app',\n",
              "  'unity render diff passport text artur',\n",
              "  '[CV] [Qt] OpenCV GUI',\n",
              "  'python training lucas',\n",
              "  'python training alysson',\n",
              "  'unity render different passport text',\n",
              "  '[template] unity render passport text',\n",
              "  'unity render diff passport text - kennedy',\n",
              "  'Unity Render Passport Text [Template]',\n",
              "  '[IOS-APPS] IOS streaming app',\n",
              "  '[IOS-APPS] IOS PI app',\n",
              "  '[HR] Candidate tests',\n",
              "  '[CHATBOT] merlin',\n",
              "  '[ID-VERIFY-PIPELINE] Background evaluator',\n",
              "  '[ID-VERIFY-PIPELINE] Passport finder',\n",
              "  '[CHATBOT] rodrigo',\n",
              "  '[BG-CLUB-SITE] frontend',\n",
              "  '[INHOUSE-TOOLS] NN-Webapp 2'],\n",
              " 'csaftoiu': ['Annotations',\n",
              "  '[EXECUTIVE] Merlin',\n",
              "  'sportsparsers - 22bet',\n",
              "  'sportsparsers - esportscalendar',\n",
              "  'morris bg data gathering',\n",
              "  'sportsparsers - unikrn',\n",
              "  'Runningball Parser',\n",
              "  'sportsparsers - unibet',\n",
              "  '[Web] pm-site',\n",
              "  'sportsparsers - tipster.de',\n",
              "  'sportsparsers - betway',\n",
              "  'sportsparsers - gg.bet',\n",
              "  'sportsparsers - pinnacle API',\n",
              "  'sportsparsers - matchbook',\n",
              "  '[ID-VERIFY-PIPELINE] finger detector',\n",
              "  '[CHESS] Live Demo Executive',\n",
              "  '[INHOUSE-TOOLS] NN-Webapp',\n",
              "  '[INHOUSE-TOOLS] Annotators app',\n",
              "  'python training lucas',\n",
              "  'python training alysson',\n",
              "  'unity render diff passport text - kennedy',\n",
              "  'Unity Render Passport Text [Template]',\n",
              "  'mateus silva bg deep checkers',\n",
              "  'Android Camera App rrocha',\n",
              "  'bg deep learning aporto',\n",
              "  'bg deep checkers rvalentim',\n",
              "  'tourney site famador',\n",
              "  'chess board finder eliaquim',\n",
              "  'tourney site ariel',\n",
              "  'tourney site tbarbalho',\n",
              "  '[IOS-APPS] IOS streaming app',\n",
              "  '[IOS-APPS] IOS PI app',\n",
              "  '[HR] Candidate tests',\n",
              "  '[CHATBOT] merlin',\n",
              "  '[ID-VERIFY-PIPELINE] Background evaluator',\n",
              "  '[ID-VERIFY-PIPELINE] Passport finder',\n",
              "  '[CHATBOT] rodrigo',\n",
              "  '[BG-CLUB-SITE] frontend',\n",
              "  '[INHOUSE-TOOLS] NN-Webapp 2'],\n",
              " 'victor': ['Annotations', 'Deepgammon'],\n",
              " 'merlin': ['Annotations',\n",
              "  '[EXECUTIVE] Merlin',\n",
              "  'sportsparsers - 22bet',\n",
              "  'sportsparsers - esportscalendar',\n",
              "  'sportsparsers - unikrn',\n",
              "  'Deepgammon',\n",
              "  'Runningball Parser',\n",
              "  'sportsparsers - unibet',\n",
              "  'sportsparsers - tipster.de',\n",
              "  'sportsparsers - betway',\n",
              "  'sportsparsers - gg.bet',\n",
              "  'sportsparsers - matchbook',\n",
              "  '[OCR] tesseract MRZ reading ',\n",
              "  '[INHOUSE-TOOLS] NN-Webapp',\n",
              "  'unity render diff passport text artur',\n",
              "  '[CV] [Qt] OpenCV GUI',\n",
              "  'unity render different passport text',\n",
              "  '[template] unity render passport text',\n",
              "  'unity render diff passport text - kennedy',\n",
              "  'Unity Render Passport Text [Template]',\n",
              "  'mateus silva bg deep checkers',\n",
              "  'Android Camera App rrocha',\n",
              "  'bg deep learning aporto',\n",
              "  'bg deep checkers rvalentim',\n",
              "  'tourney site famador',\n",
              "  'tourney site ariel',\n",
              "  'tourney site tbarbalho',\n",
              "  '[INHOUSE-TOOLS] NN-Webapp 2',\n",
              "  'matchbook parser - mfilho'],\n",
              " 'victor-mgr': ['chess board finder eliaquim'],\n",
              " 'arturc': ['[OCR] tesseract MRZ reading '],\n",
              " 'Alex': ['sportsparsers - pinnacle API']}"
            ]
          },
          "metadata": {
            "tags": []
          },
          "execution_count": 8
        }
      ]
    },
    {
      "cell_type": "code",
      "metadata": {
        "id": "AcPsaQ2GvgeL",
        "colab_type": "code",
        "colab": {}
      },
      "source": [
        "with open('managers.json', 'w') as manag:\n",
        "    json.dump(managers, manag)\n",
        "      "
      ],
      "execution_count": 16,
      "outputs": []
    },
    {
      "cell_type": "code",
      "metadata": {
        "id": "lJUZQwQT_WeD",
        "colab_type": "code",
        "colab": {
          "base_uri": "https://localhost:8080/",
          "height": 17
        },
        "outputId": "179a368e-633c-4d46-8bef-7f30b378b685"
      },
      "source": [
        "files.download('managers.json')"
      ],
      "execution_count": 18,
      "outputs": [
        {
          "output_type": "display_data",
          "data": {
            "application/javascript": [
              "\n",
              "    async function download(id, filename, size) {\n",
              "      if (!google.colab.kernel.accessAllowed) {\n",
              "        return;\n",
              "      }\n",
              "      const div = document.createElement('div');\n",
              "      const label = document.createElement('label');\n",
              "      label.textContent = `Downloading \"${filename}\": `;\n",
              "      div.appendChild(label);\n",
              "      const progress = document.createElement('progress');\n",
              "      progress.max = size;\n",
              "      div.appendChild(progress);\n",
              "      document.body.appendChild(div);\n",
              "\n",
              "      const buffers = [];\n",
              "      let downloaded = 0;\n",
              "\n",
              "      const channel = await google.colab.kernel.comms.open(id);\n",
              "      // Send a message to notify the kernel that we're ready.\n",
              "      channel.send({})\n",
              "\n",
              "      for await (const message of channel.messages) {\n",
              "        // Send a message to notify the kernel that we're ready.\n",
              "        channel.send({})\n",
              "        if (message.buffers) {\n",
              "          for (const buffer of message.buffers) {\n",
              "            buffers.push(buffer);\n",
              "            downloaded += buffer.byteLength;\n",
              "            progress.value = downloaded;\n",
              "          }\n",
              "        }\n",
              "      }\n",
              "      const blob = new Blob(buffers, {type: 'application/binary'});\n",
              "      const a = document.createElement('a');\n",
              "      a.href = window.URL.createObjectURL(blob);\n",
              "      a.download = filename;\n",
              "      div.appendChild(a);\n",
              "      a.click();\n",
              "      div.remove();\n",
              "    }\n",
              "  "
            ],
            "text/plain": [
              "<IPython.core.display.Javascript object>"
            ]
          },
          "metadata": {
            "tags": []
          }
        },
        {
          "output_type": "display_data",
          "data": {
            "application/javascript": [
              "download(\"download_85a530bf-ce8d-4507-8ac9-bec9c0f1dced\", \"managers.json\", 1561)"
            ],
            "text/plain": [
              "<IPython.core.display.Javascript object>"
            ]
          },
          "metadata": {
            "tags": []
          }
        }
      ]
    },
    {
      "cell_type": "code",
      "metadata": {
        "id": "4Lpns6cWvgeW",
        "colab_type": "code",
        "colab": {}
      },
      "source": [
        "with open('watchers.json', 'w') as watch:\n",
        "    json.dump(watchers, watch)"
      ],
      "execution_count": 23,
      "outputs": []
    },
    {
      "cell_type": "code",
      "metadata": {
        "id": "OkRrSor__zk5",
        "colab_type": "code",
        "colab": {
          "base_uri": "https://localhost:8080/",
          "height": 17
        },
        "outputId": "d4cab7f8-e0a0-47f2-9418-6fe73594c965"
      },
      "source": [
        "files.download('watchers.json')"
      ],
      "execution_count": 25,
      "outputs": [
        {
          "output_type": "display_data",
          "data": {
            "application/javascript": [
              "\n",
              "    async function download(id, filename, size) {\n",
              "      if (!google.colab.kernel.accessAllowed) {\n",
              "        return;\n",
              "      }\n",
              "      const div = document.createElement('div');\n",
              "      const label = document.createElement('label');\n",
              "      label.textContent = `Downloading \"${filename}\": `;\n",
              "      div.appendChild(label);\n",
              "      const progress = document.createElement('progress');\n",
              "      progress.max = size;\n",
              "      div.appendChild(progress);\n",
              "      document.body.appendChild(div);\n",
              "\n",
              "      const buffers = [];\n",
              "      let downloaded = 0;\n",
              "\n",
              "      const channel = await google.colab.kernel.comms.open(id);\n",
              "      // Send a message to notify the kernel that we're ready.\n",
              "      channel.send({})\n",
              "\n",
              "      for await (const message of channel.messages) {\n",
              "        // Send a message to notify the kernel that we're ready.\n",
              "        channel.send({})\n",
              "        if (message.buffers) {\n",
              "          for (const buffer of message.buffers) {\n",
              "            buffers.push(buffer);\n",
              "            downloaded += buffer.byteLength;\n",
              "            progress.value = downloaded;\n",
              "          }\n",
              "        }\n",
              "      }\n",
              "      const blob = new Blob(buffers, {type: 'application/binary'});\n",
              "      const a = document.createElement('a');\n",
              "      a.href = window.URL.createObjectURL(blob);\n",
              "      a.download = filename;\n",
              "      div.appendChild(a);\n",
              "      a.click();\n",
              "      div.remove();\n",
              "    }\n",
              "  "
            ],
            "text/plain": [
              "<IPython.core.display.Javascript object>"
            ]
          },
          "metadata": {
            "tags": []
          }
        },
        {
          "output_type": "display_data",
          "data": {
            "application/javascript": [
              "download(\"download_a2aa5896-8cf4-4680-9d7b-403c28e001b4\", \"watchers.json\", 3402)"
            ],
            "text/plain": [
              "<IPython.core.display.Javascript object>"
            ]
          },
          "metadata": {
            "tags": []
          }
        }
      ]
    }
  ]
}